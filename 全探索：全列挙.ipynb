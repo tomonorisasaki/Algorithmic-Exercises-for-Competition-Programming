{
  "nbformat": 4,
  "nbformat_minor": 0,
  "metadata": {
    "colab": {
      "name": "全探索：全列挙.ipynb",
      "provenance": [],
      "authorship_tag": "ABX9TyP1Ho6kQJBPm+SGRz56dHKB",
      "include_colab_link": true
    },
    "kernelspec": {
      "name": "python3",
      "display_name": "Python 3"
    }
  },
  "cells": [
    {
      "cell_type": "markdown",
      "metadata": {
        "id": "view-in-github",
        "colab_type": "text"
      },
      "source": [
        "<a href=\"https://colab.research.google.com/github/tomonorisasaki/Algorithmic-Exercises-for-Competition-Programming/blob/main/%E5%85%A8%E6%8E%A2%E7%B4%A2%EF%BC%9A%E5%85%A8%E5%88%97%E6%8C%99.ipynb\" target=\"_parent\"><img src=\"https://colab.research.google.com/assets/colab-badge.svg\" alt=\"Open In Colab\"/></a>"
      ]
    },
    {
      "cell_type": "code",
      "metadata": {
        "id": "-RtpCDndhaw-"
      },
      "source": [
        "N = int(input())"
      ],
      "execution_count": null,
      "outputs": []
    },
    {
      "cell_type": "code",
      "metadata": {
        "id": "-QZm4Wn4hqMY"
      },
      "source": [
        "res = 0"
      ],
      "execution_count": null,
      "outputs": []
    },
    {
      "cell_type": "code",
      "metadata": {
        "id": "GSrKTg7bhs0H"
      },
      "source": [
        "for n in range(1, N+1, 2):\n",
        "    cnt = 0\n",
        "    for i in range(1, n+1):\n",
        "        if n % i == 0:\n",
        "            cnt += 1\n",
        "    if cnt == 8:\n",
        "        res += 1"
      ],
      "execution_count": null,
      "outputs": []
    },
    {
      "cell_type": "code",
      "metadata": {
        "id": "teZOXszWhv47"
      },
      "source": [
        "print(res)"
      ],
      "execution_count": null,
      "outputs": []
    }
  ]
}